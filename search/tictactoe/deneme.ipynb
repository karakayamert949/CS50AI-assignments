{
 "cells": [
  {
   "cell_type": "code",
   "execution_count": null,
   "metadata": {},
   "outputs": [],
   "source": [
    "EMPTY = None\n",
    "X=\"X\"\n",
    "O=\"O\"\n",
    "a=[[EMPTY, EMPTY, EMPTY],\n",
    "    [X, X, EMPTY],\n",
    "    [O, EMPTY, EMPTY]]\n",
    "Xnum=0\n",
    "Onum=0\n",
    "\n",
    "\n",
    "n=EMPTY in a[:]\n",
    "print(n)\n",
    "m=[3 for j in [i for i in a]]\n",
    "print(m)\n",
    "Xknum =([1 for j in [i for i in a] if j==\"X\"])\n",
    "print(Xknum)"
   ]
  },
  {
   "cell_type": "code",
   "execution_count": 2,
   "metadata": {},
   "outputs": [
    {
     "name": "stdout",
     "output_type": "stream",
     "text": [
      "{(0, 1), (1, 2), (2, 1), (0, 0), (0, 2), (2, 2)}\n",
      "True\n"
     ]
    }
   ],
   "source": [
    "from tictactoe import actions\n",
    "\n",
    "EMPTY = None\n",
    "X=\"X\"\n",
    "O=\"O\"\n",
    "a=[[EMPTY, EMPTY, EMPTY],\n",
    "    [X, X, EMPTY],\n",
    "    [O, EMPTY, EMPTY]]\n",
    "\n",
    "print(actions(a))\n",
    "print((0,0) in actions(a))"
   ]
  },
  {
   "cell_type": "code",
   "execution_count": null,
   "metadata": {},
   "outputs": [],
   "source": [
    "def winner(board):\n",
    "    \"\"\"\n",
    "    Returns the winner of the game, if there is one.\n",
    "    \"\"\"\n",
    "    top=board[0][1]\n",
    "    bot=board[2][1]\n",
    "    right=board[1][2]\n",
    "    left=board[1][0]\n",
    "    mid=board[1][1]\n",
    "    if mid!=EMPTY:\n",
    "        if board[1][0]==mid and board[1][2]==mid:\n",
    "            return mid\n",
    "        elif board[0][1]==mid and board[2][1]==mid:\n",
    "            return mid\n",
    "        elif board[0][0]==mid and board[2][2]==mid:\n",
    "            return mid\n",
    "        elif board[2][0]==mid and board[0][2]==mid:\n",
    "            return mid\n",
    "    elif top!=EMPTY:\n",
    "        if board[0][0]==top and board[0][2]==top:\n",
    "            return top\n",
    "    elif bot!=EMPTY:\n",
    "        if board[2][0]==bot and board[2][2]==bot:\n",
    "            return bot\n",
    "    elif right!=EMPTY:\n",
    "        if board[0][2]==right and board[2][2]==right:\n",
    "            return right\n",
    "    elif left!=EMPTY:\n",
    "        if board[0][0]==left and board[2][0]==left:\n",
    "            return left\n",
    "    else: return None"
   ]
  }
 ],
 "metadata": {
  "kernelspec": {
   "display_name": "Python 3.10.6 64-bit",
   "language": "python",
   "name": "python3"
  },
  "language_info": {
   "codemirror_mode": {
    "name": "ipython",
    "version": 3
   },
   "file_extension": ".py",
   "mimetype": "text/x-python",
   "name": "python",
   "nbconvert_exporter": "python",
   "pygments_lexer": "ipython3",
   "version": "3.10.6"
  },
  "orig_nbformat": 4,
  "vscode": {
   "interpreter": {
    "hash": "19f8f9ebccd493d1979261b88c51ecd06bf2efdee26e5f5e5ddb3d1c8ea2e26f"
   }
  }
 },
 "nbformat": 4,
 "nbformat_minor": 2
}
