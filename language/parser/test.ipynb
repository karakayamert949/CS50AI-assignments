{
 "cells": [
  {
   "cell_type": "code",
   "execution_count": null,
   "metadata": {},
   "outputs": [],
   "source": [
    "import nltk\n",
    "\n",
    "def preprocess(sentence):\n",
    "    \"\"\"\n",
    "    Convert `sentence` to a list of its words.\n",
    "    Pre-process sentence by converting all characters to lowercase\n",
    "    and removing any word that does not contain at least one alphabetic\n",
    "    character.\n",
    "    \"\"\"\n",
    "    sentence=sentence.lower()\n",
    "    sen=nltk.word_tokenize(sentence)\n",
    "    wordList=[ch for ch in sen if ch.isalpha()]\n",
    "    return wordList"
   ]
  },
  {
   "cell_type": "code",
   "execution_count": null,
   "metadata": {},
   "outputs": [],
   "source": [
    "with open(\"sentences/1.txt\") as f:\n",
    "    sen=f.read()\n",
    "sen=nltk.word_tokenize(sen)\n",
    "sen=[ch for ch in sen if ch.isalpha()]\n",
    "print(sen)"
   ]
  },
  {
   "cell_type": "code",
   "execution_count": 52,
   "metadata": {},
   "outputs": [
    {
     "data": {
      "text/plain": [
       "3"
      ]
     },
     "execution_count": 52,
     "metadata": {},
     "output_type": "execute_result"
    }
   ],
   "source": [
    "from nltk.tree import Tree\n",
    "a=Tree(1, [2, Tree(3, [4]), 5])\n",
    "\n",
    "a[1].label()\n"
   ]
  },
  {
   "cell_type": "code",
   "execution_count": 54,
   "metadata": {},
   "outputs": [
    {
     "ename": "AttributeError",
     "evalue": "'str' object has no attribute 'label'",
     "output_type": "error",
     "traceback": [
      "\u001b[1;31m---------------------------------------------------------------------------\u001b[0m",
      "\u001b[1;31mAttributeError\u001b[0m                            Traceback (most recent call last)",
      "\u001b[1;32mc:\\Users\\mert\\Desktop\\yazılımlar\\python\\cs50ai\\language\\parser\\test.ipynb Hücre 4\u001b[0m in \u001b[0;36m<cell line: 25>\u001b[1;34m()\u001b[0m\n\u001b[0;32m     <a href='vscode-notebook-cell:/c%3A/Users/mert/Desktop/yaz%C4%B1l%C4%B1mlar/python/cs50ai/language/parser/test.ipynb#W5sZmlsZQ%3D%3D?line=20'>21</a>\u001b[0m         \u001b[39mreturn\u001b[39;00m nplist\n\u001b[0;32m     <a href='vscode-notebook-cell:/c%3A/Users/mert/Desktop/yaz%C4%B1l%C4%B1mlar/python/cs50ai/language/parser/test.ipynb#W5sZmlsZQ%3D%3D?line=22'>23</a>\u001b[0m     \u001b[39mreturn\u001b[39;00m loop(tree)\n\u001b[1;32m---> <a href='vscode-notebook-cell:/c%3A/Users/mert/Desktop/yaz%C4%B1l%C4%B1mlar/python/cs50ai/language/parser/test.ipynb#W5sZmlsZQ%3D%3D?line=24'>25</a>\u001b[0m np_chunk(sen)\n",
      "\u001b[1;32mc:\\Users\\mert\\Desktop\\yazılımlar\\python\\cs50ai\\language\\parser\\test.ipynb Hücre 4\u001b[0m in \u001b[0;36mnp_chunk\u001b[1;34m(tree)\u001b[0m\n\u001b[0;32m     <a href='vscode-notebook-cell:/c%3A/Users/mert/Desktop/yaz%C4%B1l%C4%B1mlar/python/cs50ai/language/parser/test.ipynb#W5sZmlsZQ%3D%3D?line=19'>20</a>\u001b[0m             nplist \u001b[39m+\u001b[39m\u001b[39m=\u001b[39m element\n\u001b[0;32m     <a href='vscode-notebook-cell:/c%3A/Users/mert/Desktop/yaz%C4%B1l%C4%B1mlar/python/cs50ai/language/parser/test.ipynb#W5sZmlsZQ%3D%3D?line=20'>21</a>\u001b[0m     \u001b[39mreturn\u001b[39;00m nplist\n\u001b[1;32m---> <a href='vscode-notebook-cell:/c%3A/Users/mert/Desktop/yaz%C4%B1l%C4%B1mlar/python/cs50ai/language/parser/test.ipynb#W5sZmlsZQ%3D%3D?line=22'>23</a>\u001b[0m \u001b[39mreturn\u001b[39;00m loop(tree)\n",
      "\u001b[1;32mc:\\Users\\mert\\Desktop\\yazılımlar\\python\\cs50ai\\language\\parser\\test.ipynb Hücre 4\u001b[0m in \u001b[0;36mnp_chunk.<locals>.loop\u001b[1;34m(tree)\u001b[0m\n\u001b[0;32m     <a href='vscode-notebook-cell:/c%3A/Users/mert/Desktop/yaz%C4%B1l%C4%B1mlar/python/cs50ai/language/parser/test.ipynb#W5sZmlsZQ%3D%3D?line=16'>17</a>\u001b[0m         nplist \u001b[39m+\u001b[39m\u001b[39m=\u001b[39m loop(element)\n\u001b[0;32m     <a href='vscode-notebook-cell:/c%3A/Users/mert/Desktop/yaz%C4%B1l%C4%B1mlar/python/cs50ai/language/parser/test.ipynb#W5sZmlsZQ%3D%3D?line=17'>18</a>\u001b[0m         \u001b[39mcontinue\u001b[39;00m\n\u001b[1;32m---> <a href='vscode-notebook-cell:/c%3A/Users/mert/Desktop/yaz%C4%B1l%C4%B1mlar/python/cs50ai/language/parser/test.ipynb#W5sZmlsZQ%3D%3D?line=18'>19</a>\u001b[0m     \u001b[39melif\u001b[39;00m element\u001b[39m.\u001b[39;49mlabel()\u001b[39m==\u001b[39m\u001b[39m\"\u001b[39m\u001b[39mNP\u001b[39m\u001b[39m\"\u001b[39m:\n\u001b[0;32m     <a href='vscode-notebook-cell:/c%3A/Users/mert/Desktop/yaz%C4%B1l%C4%B1mlar/python/cs50ai/language/parser/test.ipynb#W5sZmlsZQ%3D%3D?line=19'>20</a>\u001b[0m         nplist \u001b[39m+\u001b[39m\u001b[39m=\u001b[39m element\n\u001b[0;32m     <a href='vscode-notebook-cell:/c%3A/Users/mert/Desktop/yaz%C4%B1l%C4%B1mlar/python/cs50ai/language/parser/test.ipynb#W5sZmlsZQ%3D%3D?line=20'>21</a>\u001b[0m \u001b[39mreturn\u001b[39;00m nplist\n",
      "\u001b[1;31mAttributeError\u001b[0m: 'str' object has no attribute 'label'"
     ]
    }
   ],
   "source": [
    "def np_chunk(tree):\n",
    "    \"\"\"\n",
    "    Return a list of all noun phrase chunks in the sentence tree.\n",
    "    A noun phrase chunk is defined as any subtree of the sentence\n",
    "    whose label is \"NP\" that does not itself contain any other\n",
    "    noun phrases as subtrees.\n",
    "    \"\"\"\n",
    "\n",
    "    def loop(tree):\n",
    "        if not isinstance(tree,list):\n",
    "            if tree.label()==\"NP\":\n",
    "                return tree\n",
    "\n",
    "        nplist=[]\n",
    "        for element in tree:\n",
    "            if type(element)==nltk.tree.Tree:\n",
    "                nplist += loop(element)\n",
    "                continue\n",
    "            elif element.label()==\"NP\":\n",
    "                nplist += element\n",
    "        return nplist\n",
    "\n",
    "    return loop(tree)\n",
    "\n",
    "np_chunk(sen)"
   ]
  }
 ],
 "metadata": {
  "kernelspec": {
   "display_name": "Python 3.10.6 64-bit",
   "language": "python",
   "name": "python3"
  },
  "language_info": {
   "codemirror_mode": {
    "name": "ipython",
    "version": 3
   },
   "file_extension": ".py",
   "mimetype": "text/x-python",
   "name": "python",
   "nbconvert_exporter": "python",
   "pygments_lexer": "ipython3",
   "version": "3.10.6"
  },
  "orig_nbformat": 4,
  "vscode": {
   "interpreter": {
    "hash": "19f8f9ebccd493d1979261b88c51ecd06bf2efdee26e5f5e5ddb3d1c8ea2e26f"
   }
  }
 },
 "nbformat": 4,
 "nbformat_minor": 2
}
